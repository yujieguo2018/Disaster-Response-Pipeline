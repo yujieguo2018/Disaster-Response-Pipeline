{
 "cells": [
  {
   "cell_type": "markdown",
   "metadata": {},
   "source": [
    "# ML Pipeline Preparation\n",
    "Follow the instructions below to help you create your ML pipeline.\n",
    "### 1. Import libraries and load data from database.\n",
    "- Import Python libraries\n",
    "- Load dataset from database with [`read_sql_table`](https://pandas.pydata.org/pandas-docs/stable/generated/pandas.read_sql_table.html)\n",
    "- Define feature and target variables X and Y"
   ]
  },
  {
   "cell_type": "code",
   "execution_count": 8,
   "metadata": {},
   "outputs": [],
   "source": [
    "# import libraries\n",
    "\n",
    "import re\n",
    "import numpy as np\n",
    "import pandas as pd\n",
    "from sqlalchemy import create_engine\n",
    "\n",
    "from sklearn.metrics import confusion_matrix\n",
    "from sklearn.model_selection import train_test_split\n",
    "from sklearn.ensemble import RandomForestClassifier\n",
    "from sklearn.feature_extraction.text import CountVectorizer, TfidfTransformer"
   ]
  },
  {
   "cell_type": "code",
   "execution_count": 12,
   "metadata": {
    "scrolled": true
   },
   "outputs": [],
   "source": [
    "# load data from database\n",
    "\n",
    "def load_data():\n",
    "    \n",
    "    engine = create_engine('sqlite:///Disaster_data.db')\n",
    "    df = pd.read_sql(\"SELECT * FROM Disaster_data\", engine)\n",
    "\n",
    "    df = df.head(50)\n",
    "    category_columns = ['related', 'request', 'offer', 'aid_related', 'medical_help', 'medical_products', 'search_and_rescue', 'security', 'military', 'child_alone', 'water', 'food', 'shelter', 'clothing', 'money', 'missing_people', 'refugees', 'death', 'other_aid', 'infrastructure_related', 'transport', 'buildings', 'electricity', 'tools', 'hospitals', 'shops', 'aid_centers', 'other_infrastructure', 'weather_related', 'floods', 'storm', 'fire', 'earthquake', 'cold', 'other_weather', 'direct_report']\n",
    "    X = df['message']\n",
    "    Y = df[category_columns]\n",
    "\n",
    "    return X,Y"
   ]
  },
  {
   "cell_type": "code",
   "execution_count": 13,
   "metadata": {},
   "outputs": [
    {
     "data": {
      "text/plain": [
       "(0     Weather update - a cold front from Cuba that c...\n",
       " 1               Is the Hurricane over or is it not over\n",
       " 2                       Looking for someone but no name\n",
       " 3     UN reports Leogane 80-90 destroyed. Only Hospi...\n",
       " 4     says: west side of Haiti, rest of the country ...\n",
       " 5                Information about the National Palace-\n",
       " 6                        Storm at sacred heart of jesus\n",
       " 7     Please, we need tents and water. We are in Sil...\n",
       " 8       I would like to receive the messages, thank you\n",
       " 9     I am in Croix-des-Bouquets. We have health iss...\n",
       " 10    There's nothing to eat and water, we starving ...\n",
       " 11    I am in Petionville. I need more information r...\n",
       " 12    I am in Thomassin number 32, in the area named...\n",
       " 13    Let's do it together, need food in Delma 75, i...\n",
       " 14    More information on the 4636 number in order f...\n",
       " 15    A Comitee in Delmas 19, Rue ( street ) Janvier...\n",
       " 16    We need food and water in Klecin 12. We are dy...\n",
       " 17    are you going to call me or do you want me to ...\n",
       " 18       I don't understand how to use this thing 4636.\n",
       " 19    I would like to know if the earthquake is over...\n",
       " 20    I would like to know if one of the radio ginen...\n",
       " 21                       I'm in Laplaine, I am a victim\n",
       " 22    There's a lack of water in Moleya, please info...\n",
       " 23    Those people who live at Sibert need food they...\n",
       " 24    I want to say hello, my message is to let you ...\n",
       " 25                   Can you tell me about this service\n",
       " 26    People I'm at Delma 2, we don't anything what ...\n",
       " 27    We are at Gressier we needs assistance right a...\n",
       " 28    How can we get water and food in Fontamara 43 ...\n",
       " 29    We need help. Carrefour has been forgotten com...\n",
       " 30    Good evening, Radio one please. I would like i...\n",
       " 31    We have a lot of problem at Delma 75 Avenue Al...\n",
       " 32    I'm here, I didn't find the person that I need...\n",
       " 33    People have been sleeping outdoors in a field ...\n",
       " 34    We want you to know that Carrefour need help, ...\n",
       " 35    How we can find food and water? we have people...\n",
       " 36                       Delmas 33 in Silo, need water.\n",
       " 37    I would like to get help at Cote Plage in Carr...\n",
       " 38       I am in Leoganes, where can I get food? Please\n",
       " 39    The Comite Miracle in the area of Alerte Rue M...\n",
       " 40    People from Dal blocked since Wednesday in Car...\n",
       " 41    In Jacmel it's not working at all, because peo...\n",
       " 42                    We have no one everybody is dead.\n",
       " 43    We don't talk about Petit-Goave, Please, look ...\n",
       " 44                 Good evening, is the earthquake end?\n",
       " 45    People in Fontamara 27 in impass area Pierre L...\n",
       " 46    Good evening, I congratulate you for all the g...\n",
       " 47    how can we find aid and food in fontamara ( ca...\n",
       " 48    Am listening to radio in Jacmel. Need help to ...\n",
       " 49    People from Jacmel are requesting a tractor in...\n",
       " Name: message, dtype: object,\n",
       "     related  request  offer  aid_related  medical_help  medical_products  \\\n",
       " 0         1        0      0            0             0                 0   \n",
       " 1         1        0      0            1             0                 0   \n",
       " 2         1        0      0            0             0                 0   \n",
       " 3         1        1      0            1             0                 1   \n",
       " 4         1        0      0            0             0                 0   \n",
       " 5         0        0      0            0             0                 0   \n",
       " 6         1        0      0            0             0                 0   \n",
       " 7         1        1      0            1             0                 0   \n",
       " 8         0        0      0            0             0                 0   \n",
       " 9         1        1      0            1             1                 1   \n",
       " 10        1        1      0            1             1                 1   \n",
       " 11        0        0      0            0             0                 0   \n",
       " 12        1        1      0            1             0                 0   \n",
       " 13        1        1      0            1             0                 0   \n",
       " 14        1        0      0            0             0                 0   \n",
       " 15        1        1      0            1             0                 1   \n",
       " 16        1        1      0            1             1                 0   \n",
       " 17        0        0      0            0             0                 0   \n",
       " 18        0        0      0            0             0                 0   \n",
       " 19        1        0      0            0             0                 0   \n",
       " 20        1        0      0            0             0                 0   \n",
       " 21        1        1      0            1             0                 0   \n",
       " 22        1        1      0            1             0                 0   \n",
       " 23        1        1      0            1             0                 0   \n",
       " 24        1        0      0            0             0                 0   \n",
       " 25        0        0      0            0             0                 0   \n",
       " 26        1        1      0            1             1                 1   \n",
       " 27        1        1      0            1             1                 0   \n",
       " 28        1        1      0            1             0                 0   \n",
       " 29        1        1      0            1             0                 0   \n",
       " 30        0        0      0            0             0                 0   \n",
       " 31        1        1      0            1             0                 0   \n",
       " 32        0        0      0            0             0                 0   \n",
       " 33        1        0      0            0             0                 0   \n",
       " 34        1        1      0            1             0                 0   \n",
       " 35        1        0      0            0             0                 0   \n",
       " 36        1        1      0            1             0                 0   \n",
       " 37        1        1      0            1             0                 0   \n",
       " 38        1        1      0            1             0                 0   \n",
       " 39        1        1      0            1             0                 0   \n",
       " 40        1        0      0            1             1                 0   \n",
       " 41        1        0      0            1             0                 0   \n",
       " 42        1        0      0            1             0                 0   \n",
       " 43        1        0      0            1             0                 1   \n",
       " 44        1        0      0            1             0                 0   \n",
       " 45        1        1      0            0             0                 0   \n",
       " 46        1        1      0            1             0                 0   \n",
       " 47        1        1      0            1             0                 0   \n",
       " 48        1        1      0            1             0                 0   \n",
       " 49        1        0      0            1             0                 0   \n",
       " \n",
       "     search_and_rescue  security  military  child_alone  ...  aid_centers  \\\n",
       " 0                   0         0         0            0  ...            0   \n",
       " 1                   0         0         0            0  ...            0   \n",
       " 2                   0         0         0            0  ...            0   \n",
       " 3                   0         0         0            0  ...            0   \n",
       " 4                   0         0         0            0  ...            0   \n",
       " 5                   0         0         0            0  ...            0   \n",
       " 6                   0         0         0            0  ...            0   \n",
       " 7                   0         0         0            0  ...            0   \n",
       " 8                   0         0         0            0  ...            0   \n",
       " 9                   0         0         0            0  ...            0   \n",
       " 10                  0         0         0            0  ...            0   \n",
       " 11                  0         0         0            0  ...            0   \n",
       " 12                  0         0         0            0  ...            0   \n",
       " 13                  0         0         0            0  ...            0   \n",
       " 14                  0         0         0            0  ...            0   \n",
       " 15                  0         0         0            0  ...            0   \n",
       " 16                  0         0         0            0  ...            0   \n",
       " 17                  0         0         0            0  ...            0   \n",
       " 18                  0         0         0            0  ...            0   \n",
       " 19                  0         0         0            0  ...            0   \n",
       " 20                  0         0         0            0  ...            0   \n",
       " 21                  0         0         0            0  ...            0   \n",
       " 22                  0         0         0            0  ...            0   \n",
       " 23                  0         0         0            0  ...            0   \n",
       " 24                  0         0         0            0  ...            0   \n",
       " 25                  0         0         0            0  ...            0   \n",
       " 26                  0         0         0            0  ...            0   \n",
       " 27                  0         0         0            0  ...            0   \n",
       " 28                  0         0         0            0  ...            0   \n",
       " 29                  0         0         0            0  ...            0   \n",
       " 30                  0         0         0            0  ...            0   \n",
       " 31                  0         0         0            0  ...            0   \n",
       " 32                  0         0         0            0  ...            0   \n",
       " 33                  0         0         0            0  ...            0   \n",
       " 34                  0         0         0            0  ...            0   \n",
       " 35                  0         0         0            0  ...            0   \n",
       " 36                  0         0         0            0  ...            0   \n",
       " 37                  0         0         0            0  ...            0   \n",
       " 38                  0         0         0            0  ...            0   \n",
       " 39                  0         0         0            0  ...            0   \n",
       " 40                  0         0         1            0  ...            0   \n",
       " 41                  0         0         0            0  ...            0   \n",
       " 42                  0         0         0            0  ...            0   \n",
       " 43                  0         0         0            0  ...            0   \n",
       " 44                  0         0         0            0  ...            0   \n",
       " 45                  0         0         0            0  ...            0   \n",
       " 46                  0         0         0            0  ...            0   \n",
       " 47                  0         0         0            0  ...            0   \n",
       " 48                  0         0         0            0  ...            0   \n",
       " 49                  0         0         1            0  ...            0   \n",
       " \n",
       "     other_infrastructure  weather_related  floods  storm  fire  earthquake  \\\n",
       " 0                      0                0       0      0     0           0   \n",
       " 1                      0                1       0      1     0           0   \n",
       " 2                      0                0       0      0     0           0   \n",
       " 3                      0                0       0      0     0           0   \n",
       " 4                      0                0       0      0     0           0   \n",
       " 5                      0                0       0      0     0           0   \n",
       " 6                      0                1       0      1     0           0   \n",
       " 7                      0                0       0      0     0           0   \n",
       " 8                      0                0       0      0     0           0   \n",
       " 9                      0                0       0      0     0           0   \n",
       " 10                     1                1       1      0     0           0   \n",
       " 11                     0                0       0      0     0           0   \n",
       " 12                     0                0       0      0     0           0   \n",
       " 13                     0                0       0      0     0           0   \n",
       " 14                     0                0       0      0     0           0   \n",
       " 15                     0                0       0      0     0           0   \n",
       " 16                     0                0       0      0     0           0   \n",
       " 17                     0                0       0      0     0           0   \n",
       " 18                     0                0       0      0     0           0   \n",
       " 19                     0                1       0      0     0           1   \n",
       " 20                     0                0       0      0     0           0   \n",
       " 21                     0                0       0      0     0           0   \n",
       " 22                     0                0       0      0     0           0   \n",
       " 23                     0                0       0      0     0           0   \n",
       " 24                     0                0       0      0     0           0   \n",
       " 25                     0                0       0      0     0           0   \n",
       " 26                     0                0       0      0     0           0   \n",
       " 27                     0                1       1      0     0           0   \n",
       " 28                     0                0       0      0     0           0   \n",
       " 29                     0                0       0      0     0           0   \n",
       " 30                     0                0       0      0     0           0   \n",
       " 31                     0                0       0      0     0           0   \n",
       " 32                     0                0       0      0     0           0   \n",
       " 33                     0                0       0      0     0           0   \n",
       " 34                     0                0       0      0     0           0   \n",
       " 35                     0                0       0      0     0           0   \n",
       " 36                     0                0       0      0     0           0   \n",
       " 37                     0                0       0      0     0           0   \n",
       " 38                     0                0       0      0     0           0   \n",
       " 39                     0                0       0      0     0           0   \n",
       " 40                     0                1       0      0     0           1   \n",
       " 41                     0                0       0      0     0           0   \n",
       " 42                     0                0       0      0     0           0   \n",
       " 43                     1                1       0      0     0           0   \n",
       " 44                     0                1       0      0     0           1   \n",
       " 45                     0                0       0      0     0           0   \n",
       " 46                     0                0       0      0     0           0   \n",
       " 47                     0                0       0      0     0           0   \n",
       " 48                     0                0       0      0     0           0   \n",
       " 49                     0                0       0      0     0           0   \n",
       " \n",
       "     cold  other_weather  direct_report  \n",
       " 0      0              0              0  \n",
       " 1      0              0              0  \n",
       " 2      0              0              0  \n",
       " 3      0              0              0  \n",
       " 4      0              0              0  \n",
       " 5      0              0              0  \n",
       " 6      0              0              0  \n",
       " 7      0              0              1  \n",
       " 8      0              0              0  \n",
       " 9      0              0              1  \n",
       " 10     0              0              1  \n",
       " 11     0              0              0  \n",
       " 12     0              0              1  \n",
       " 13     0              0              1  \n",
       " 14     0              0              0  \n",
       " 15     0              0              1  \n",
       " 16     0              0              1  \n",
       " 17     0              0              0  \n",
       " 18     0              0              0  \n",
       " 19     0              0              0  \n",
       " 20     0              0              0  \n",
       " 21     0              0              1  \n",
       " 22     0              0              1  \n",
       " 23     0              0              0  \n",
       " 24     0              0              0  \n",
       " 25     0              0              0  \n",
       " 26     0              0              1  \n",
       " 27     0              0              1  \n",
       " 28     0              0              1  \n",
       " 29     0              0              1  \n",
       " 30     0              0              0  \n",
       " 31     0              0              1  \n",
       " 32     0              0              0  \n",
       " 33     0              0              0  \n",
       " 34     0              0              0  \n",
       " 35     0              0              0  \n",
       " 36     0              0              1  \n",
       " 37     0              0              1  \n",
       " 38     0              0              1  \n",
       " 39     0              0              1  \n",
       " 40     0              0              0  \n",
       " 41     0              0              1  \n",
       " 42     0              0              1  \n",
       " 43     0              1              0  \n",
       " 44     0              0              0  \n",
       " 45     0              0              0  \n",
       " 46     0              0              1  \n",
       " 47     0              0              1  \n",
       " 48     0              0              1  \n",
       " 49     0              0              0  \n",
       " \n",
       " [50 rows x 36 columns])"
      ]
     },
     "execution_count": 13,
     "metadata": {},
     "output_type": "execute_result"
    }
   ],
   "source": [
    "load_data()"
   ]
  },
  {
   "cell_type": "code",
   "execution_count": 36,
   "metadata": {},
   "outputs": [
    {
     "data": {
      "text/plain": [
       "'Weather update - a cold front from Cuba that could pass over Haiti'"
      ]
     },
     "execution_count": 36,
     "metadata": {},
     "output_type": "execute_result"
    }
   ],
   "source": [
    "# take a look at the actual message\n",
    "df['message'].iloc[0]"
   ]
  },
  {
   "cell_type": "markdown",
   "metadata": {},
   "source": [
    "### 2. Write a tokenization function to process your text data"
   ]
  },
  {
   "cell_type": "code",
   "execution_count": 232,
   "metadata": {},
   "outputs": [],
   "source": [
    "def tokenize(text):\n",
    "    \n",
    "    from nltk.tokenize import word_tokenize\n",
    "    from nltk.stem import WordNetLemmatizer\n",
    "    from nltk.corpus import stopwords\n",
    "\n",
    "    # Remove punctuation characters\n",
    "    import re\n",
    "    text = re.sub(r\"[^a-zA-Z0-9]\", \" \", text) \n",
    "    \n",
    "    # tokenize\n",
    "    raw_tokens = word_tokenize(text)\n",
    "    \n",
    "    # remove stop words\n",
    "    tokens = [w for w in raw_tokens if w not in stopwords.words(\"english\")]\n",
    "    \n",
    "    # lemmatize and normalize\n",
    "    lemmatizer = WordNetLemmatizer()\n",
    "    clean_tokens = []\n",
    "    for tok in tokens:\n",
    "        clean_tok = lemmatizer.lemmatize(tok).lower().strip()\n",
    "        clean_tokens.append(clean_tok)\n",
    "\n",
    "    return clean_tokens"
   ]
  },
  {
   "cell_type": "code",
   "execution_count": 233,
   "metadata": {},
   "outputs": [
    {
     "data": {
      "text/plain": [
       "['weather', 'update', 'cold', 'front', 'cuba', 'could', 'pas', 'haiti']"
      ]
     },
     "execution_count": 233,
     "metadata": {},
     "output_type": "execute_result"
    }
   ],
   "source": [
    "tokenize(X.iloc[0])"
   ]
  },
  {
   "cell_type": "code",
   "execution_count": 234,
   "metadata": {
    "collapsed": true
   },
   "outputs": [
    {
     "ename": "KeyboardInterrupt",
     "evalue": "",
     "output_type": "error",
     "traceback": [
      "\u001b[1;31m---------------------------------------------------------------------------\u001b[0m",
      "\u001b[1;31mKeyboardInterrupt\u001b[0m                         Traceback (most recent call last)",
      "\u001b[1;32m<ipython-input-234-8521833796c5>\u001b[0m in \u001b[0;36m<module>\u001b[1;34m\u001b[0m\n\u001b[1;32m----> 1\u001b[1;33m \u001b[0mdf\u001b[0m\u001b[1;33m.\u001b[0m\u001b[0mmessage\u001b[0m\u001b[1;33m.\u001b[0m\u001b[0mapply\u001b[0m\u001b[1;33m(\u001b[0m\u001b[1;32mlambda\u001b[0m \u001b[0mx\u001b[0m\u001b[1;33m:\u001b[0m \u001b[0mtokenize\u001b[0m\u001b[1;33m(\u001b[0m\u001b[0mx\u001b[0m\u001b[1;33m)\u001b[0m\u001b[1;33m)\u001b[0m\u001b[1;33m\u001b[0m\u001b[1;33m\u001b[0m\u001b[0m\n\u001b[0m\u001b[0;32m      2\u001b[0m \u001b[1;31m# df.message.apply(lambda x: pd.series(tokenize(x)))\u001b[0m\u001b[1;33m\u001b[0m\u001b[1;33m\u001b[0m\u001b[1;33m\u001b[0m\u001b[0m\n",
      "\u001b[1;32mC:\\Anaconda3\\lib\\site-packages\\pandas\\core\\series.py\u001b[0m in \u001b[0;36mapply\u001b[1;34m(self, func, convert_dtype, args, **kwds)\u001b[0m\n\u001b[0;32m   3589\u001b[0m             \u001b[1;32melse\u001b[0m\u001b[1;33m:\u001b[0m\u001b[1;33m\u001b[0m\u001b[1;33m\u001b[0m\u001b[0m\n\u001b[0;32m   3590\u001b[0m                 \u001b[0mvalues\u001b[0m \u001b[1;33m=\u001b[0m \u001b[0mself\u001b[0m\u001b[1;33m.\u001b[0m\u001b[0mastype\u001b[0m\u001b[1;33m(\u001b[0m\u001b[0mobject\u001b[0m\u001b[1;33m)\u001b[0m\u001b[1;33m.\u001b[0m\u001b[0mvalues\u001b[0m\u001b[1;33m\u001b[0m\u001b[1;33m\u001b[0m\u001b[0m\n\u001b[1;32m-> 3591\u001b[1;33m                 \u001b[0mmapped\u001b[0m \u001b[1;33m=\u001b[0m \u001b[0mlib\u001b[0m\u001b[1;33m.\u001b[0m\u001b[0mmap_infer\u001b[0m\u001b[1;33m(\u001b[0m\u001b[0mvalues\u001b[0m\u001b[1;33m,\u001b[0m \u001b[0mf\u001b[0m\u001b[1;33m,\u001b[0m \u001b[0mconvert\u001b[0m\u001b[1;33m=\u001b[0m\u001b[0mconvert_dtype\u001b[0m\u001b[1;33m)\u001b[0m\u001b[1;33m\u001b[0m\u001b[1;33m\u001b[0m\u001b[0m\n\u001b[0m\u001b[0;32m   3592\u001b[0m \u001b[1;33m\u001b[0m\u001b[0m\n\u001b[0;32m   3593\u001b[0m         \u001b[1;32mif\u001b[0m \u001b[0mlen\u001b[0m\u001b[1;33m(\u001b[0m\u001b[0mmapped\u001b[0m\u001b[1;33m)\u001b[0m \u001b[1;32mand\u001b[0m \u001b[0misinstance\u001b[0m\u001b[1;33m(\u001b[0m\u001b[0mmapped\u001b[0m\u001b[1;33m[\u001b[0m\u001b[1;36m0\u001b[0m\u001b[1;33m]\u001b[0m\u001b[1;33m,\u001b[0m \u001b[0mSeries\u001b[0m\u001b[1;33m)\u001b[0m\u001b[1;33m:\u001b[0m\u001b[1;33m\u001b[0m\u001b[1;33m\u001b[0m\u001b[0m\n",
      "\u001b[1;32mpandas/_libs/lib.pyx\u001b[0m in \u001b[0;36mpandas._libs.lib.map_infer\u001b[1;34m()\u001b[0m\n",
      "\u001b[1;32m<ipython-input-234-8521833796c5>\u001b[0m in \u001b[0;36m<lambda>\u001b[1;34m(x)\u001b[0m\n\u001b[1;32m----> 1\u001b[1;33m \u001b[0mdf\u001b[0m\u001b[1;33m.\u001b[0m\u001b[0mmessage\u001b[0m\u001b[1;33m.\u001b[0m\u001b[0mapply\u001b[0m\u001b[1;33m(\u001b[0m\u001b[1;32mlambda\u001b[0m \u001b[0mx\u001b[0m\u001b[1;33m:\u001b[0m \u001b[0mtokenize\u001b[0m\u001b[1;33m(\u001b[0m\u001b[0mx\u001b[0m\u001b[1;33m)\u001b[0m\u001b[1;33m)\u001b[0m\u001b[1;33m\u001b[0m\u001b[1;33m\u001b[0m\u001b[0m\n\u001b[0m\u001b[0;32m      2\u001b[0m \u001b[1;31m# df.message.apply(lambda x: pd.series(tokenize(x)))\u001b[0m\u001b[1;33m\u001b[0m\u001b[1;33m\u001b[0m\u001b[1;33m\u001b[0m\u001b[0m\n",
      "\u001b[1;32m<ipython-input-232-d4edb793d9ba>\u001b[0m in \u001b[0;36mtokenize\u001b[1;34m(text)\u001b[0m\n\u001b[0;32m     13\u001b[0m \u001b[1;33m\u001b[0m\u001b[0m\n\u001b[0;32m     14\u001b[0m     \u001b[1;31m# remove stop words\u001b[0m\u001b[1;33m\u001b[0m\u001b[1;33m\u001b[0m\u001b[1;33m\u001b[0m\u001b[0m\n\u001b[1;32m---> 15\u001b[1;33m     \u001b[0mtokens\u001b[0m \u001b[1;33m=\u001b[0m \u001b[1;33m[\u001b[0m\u001b[0mw\u001b[0m \u001b[1;32mfor\u001b[0m \u001b[0mw\u001b[0m \u001b[1;32min\u001b[0m \u001b[0mraw_tokens\u001b[0m \u001b[1;32mif\u001b[0m \u001b[0mw\u001b[0m \u001b[1;32mnot\u001b[0m \u001b[1;32min\u001b[0m \u001b[0mstopwords\u001b[0m\u001b[1;33m.\u001b[0m\u001b[0mwords\u001b[0m\u001b[1;33m(\u001b[0m\u001b[1;34m\"english\"\u001b[0m\u001b[1;33m)\u001b[0m\u001b[1;33m]\u001b[0m\u001b[1;33m\u001b[0m\u001b[1;33m\u001b[0m\u001b[0m\n\u001b[0m\u001b[0;32m     16\u001b[0m \u001b[1;33m\u001b[0m\u001b[0m\n\u001b[0;32m     17\u001b[0m     \u001b[1;31m# lemmatize and normalize\u001b[0m\u001b[1;33m\u001b[0m\u001b[1;33m\u001b[0m\u001b[1;33m\u001b[0m\u001b[0m\n",
      "\u001b[1;32m<ipython-input-232-d4edb793d9ba>\u001b[0m in \u001b[0;36m<listcomp>\u001b[1;34m(.0)\u001b[0m\n\u001b[0;32m     13\u001b[0m \u001b[1;33m\u001b[0m\u001b[0m\n\u001b[0;32m     14\u001b[0m     \u001b[1;31m# remove stop words\u001b[0m\u001b[1;33m\u001b[0m\u001b[1;33m\u001b[0m\u001b[1;33m\u001b[0m\u001b[0m\n\u001b[1;32m---> 15\u001b[1;33m     \u001b[0mtokens\u001b[0m \u001b[1;33m=\u001b[0m \u001b[1;33m[\u001b[0m\u001b[0mw\u001b[0m \u001b[1;32mfor\u001b[0m \u001b[0mw\u001b[0m \u001b[1;32min\u001b[0m \u001b[0mraw_tokens\u001b[0m \u001b[1;32mif\u001b[0m \u001b[0mw\u001b[0m \u001b[1;32mnot\u001b[0m \u001b[1;32min\u001b[0m \u001b[0mstopwords\u001b[0m\u001b[1;33m.\u001b[0m\u001b[0mwords\u001b[0m\u001b[1;33m(\u001b[0m\u001b[1;34m\"english\"\u001b[0m\u001b[1;33m)\u001b[0m\u001b[1;33m]\u001b[0m\u001b[1;33m\u001b[0m\u001b[1;33m\u001b[0m\u001b[0m\n\u001b[0m\u001b[0;32m     16\u001b[0m \u001b[1;33m\u001b[0m\u001b[0m\n\u001b[0;32m     17\u001b[0m     \u001b[1;31m# lemmatize and normalize\u001b[0m\u001b[1;33m\u001b[0m\u001b[1;33m\u001b[0m\u001b[1;33m\u001b[0m\u001b[0m\n",
      "\u001b[1;32mC:\\Anaconda3\\lib\\site-packages\\nltk\\corpus\\reader\\wordlist.py\u001b[0m in \u001b[0;36mwords\u001b[1;34m(self, fileids, ignore_lines_startswith)\u001b[0m\n\u001b[0;32m     23\u001b[0m         return [\n\u001b[0;32m     24\u001b[0m             \u001b[0mline\u001b[0m\u001b[1;33m\u001b[0m\u001b[1;33m\u001b[0m\u001b[0m\n\u001b[1;32m---> 25\u001b[1;33m             \u001b[1;32mfor\u001b[0m \u001b[0mline\u001b[0m \u001b[1;32min\u001b[0m \u001b[0mline_tokenize\u001b[0m\u001b[1;33m(\u001b[0m\u001b[0mself\u001b[0m\u001b[1;33m.\u001b[0m\u001b[0mraw\u001b[0m\u001b[1;33m(\u001b[0m\u001b[0mfileids\u001b[0m\u001b[1;33m)\u001b[0m\u001b[1;33m)\u001b[0m\u001b[1;33m\u001b[0m\u001b[1;33m\u001b[0m\u001b[0m\n\u001b[0m\u001b[0;32m     26\u001b[0m             \u001b[1;32mif\u001b[0m \u001b[1;32mnot\u001b[0m \u001b[0mline\u001b[0m\u001b[1;33m.\u001b[0m\u001b[0mstartswith\u001b[0m\u001b[1;33m(\u001b[0m\u001b[0mignore_lines_startswith\u001b[0m\u001b[1;33m)\u001b[0m\u001b[1;33m\u001b[0m\u001b[1;33m\u001b[0m\u001b[0m\n\u001b[0;32m     27\u001b[0m         ]\n",
      "\u001b[1;32mC:\\Anaconda3\\lib\\site-packages\\nltk\\corpus\\reader\\wordlist.py\u001b[0m in \u001b[0;36mraw\u001b[1;34m(self, fileids)\u001b[0m\n\u001b[0;32m     32\u001b[0m         \u001b[1;32melif\u001b[0m \u001b[0misinstance\u001b[0m\u001b[1;33m(\u001b[0m\u001b[0mfileids\u001b[0m\u001b[1;33m,\u001b[0m \u001b[0mstring_types\u001b[0m\u001b[1;33m)\u001b[0m\u001b[1;33m:\u001b[0m\u001b[1;33m\u001b[0m\u001b[1;33m\u001b[0m\u001b[0m\n\u001b[0;32m     33\u001b[0m             \u001b[0mfileids\u001b[0m \u001b[1;33m=\u001b[0m \u001b[1;33m[\u001b[0m\u001b[0mfileids\u001b[0m\u001b[1;33m]\u001b[0m\u001b[1;33m\u001b[0m\u001b[1;33m\u001b[0m\u001b[0m\n\u001b[1;32m---> 34\u001b[1;33m         \u001b[1;32mreturn\u001b[0m \u001b[0mconcat\u001b[0m\u001b[1;33m(\u001b[0m\u001b[1;33m[\u001b[0m\u001b[0mself\u001b[0m\u001b[1;33m.\u001b[0m\u001b[0mopen\u001b[0m\u001b[1;33m(\u001b[0m\u001b[0mf\u001b[0m\u001b[1;33m)\u001b[0m\u001b[1;33m.\u001b[0m\u001b[0mread\u001b[0m\u001b[1;33m(\u001b[0m\u001b[1;33m)\u001b[0m \u001b[1;32mfor\u001b[0m \u001b[0mf\u001b[0m \u001b[1;32min\u001b[0m \u001b[0mfileids\u001b[0m\u001b[1;33m]\u001b[0m\u001b[1;33m)\u001b[0m\u001b[1;33m\u001b[0m\u001b[1;33m\u001b[0m\u001b[0m\n\u001b[0m\u001b[0;32m     35\u001b[0m \u001b[1;33m\u001b[0m\u001b[0m\n\u001b[0;32m     36\u001b[0m \u001b[1;33m\u001b[0m\u001b[0m\n",
      "\u001b[1;32mC:\\Anaconda3\\lib\\site-packages\\nltk\\corpus\\reader\\wordlist.py\u001b[0m in \u001b[0;36m<listcomp>\u001b[1;34m(.0)\u001b[0m\n\u001b[0;32m     32\u001b[0m         \u001b[1;32melif\u001b[0m \u001b[0misinstance\u001b[0m\u001b[1;33m(\u001b[0m\u001b[0mfileids\u001b[0m\u001b[1;33m,\u001b[0m \u001b[0mstring_types\u001b[0m\u001b[1;33m)\u001b[0m\u001b[1;33m:\u001b[0m\u001b[1;33m\u001b[0m\u001b[1;33m\u001b[0m\u001b[0m\n\u001b[0;32m     33\u001b[0m             \u001b[0mfileids\u001b[0m \u001b[1;33m=\u001b[0m \u001b[1;33m[\u001b[0m\u001b[0mfileids\u001b[0m\u001b[1;33m]\u001b[0m\u001b[1;33m\u001b[0m\u001b[1;33m\u001b[0m\u001b[0m\n\u001b[1;32m---> 34\u001b[1;33m         \u001b[1;32mreturn\u001b[0m \u001b[0mconcat\u001b[0m\u001b[1;33m(\u001b[0m\u001b[1;33m[\u001b[0m\u001b[0mself\u001b[0m\u001b[1;33m.\u001b[0m\u001b[0mopen\u001b[0m\u001b[1;33m(\u001b[0m\u001b[0mf\u001b[0m\u001b[1;33m)\u001b[0m\u001b[1;33m.\u001b[0m\u001b[0mread\u001b[0m\u001b[1;33m(\u001b[0m\u001b[1;33m)\u001b[0m \u001b[1;32mfor\u001b[0m \u001b[0mf\u001b[0m \u001b[1;32min\u001b[0m \u001b[0mfileids\u001b[0m\u001b[1;33m]\u001b[0m\u001b[1;33m)\u001b[0m\u001b[1;33m\u001b[0m\u001b[1;33m\u001b[0m\u001b[0m\n\u001b[0m\u001b[0;32m     35\u001b[0m \u001b[1;33m\u001b[0m\u001b[0m\n\u001b[0;32m     36\u001b[0m \u001b[1;33m\u001b[0m\u001b[0m\n",
      "\u001b[1;32mC:\\Anaconda3\\lib\\site-packages\\nltk\\corpus\\reader\\api.py\u001b[0m in \u001b[0;36mopen\u001b[1;34m(self, file)\u001b[0m\n\u001b[0;32m    211\u001b[0m         \"\"\"\n\u001b[0;32m    212\u001b[0m         \u001b[0mencoding\u001b[0m \u001b[1;33m=\u001b[0m \u001b[0mself\u001b[0m\u001b[1;33m.\u001b[0m\u001b[0mencoding\u001b[0m\u001b[1;33m(\u001b[0m\u001b[0mfile\u001b[0m\u001b[1;33m)\u001b[0m\u001b[1;33m\u001b[0m\u001b[1;33m\u001b[0m\u001b[0m\n\u001b[1;32m--> 213\u001b[1;33m         \u001b[0mstream\u001b[0m \u001b[1;33m=\u001b[0m \u001b[0mself\u001b[0m\u001b[1;33m.\u001b[0m\u001b[0m_root\u001b[0m\u001b[1;33m.\u001b[0m\u001b[0mjoin\u001b[0m\u001b[1;33m(\u001b[0m\u001b[0mfile\u001b[0m\u001b[1;33m)\u001b[0m\u001b[1;33m.\u001b[0m\u001b[0mopen\u001b[0m\u001b[1;33m(\u001b[0m\u001b[0mencoding\u001b[0m\u001b[1;33m)\u001b[0m\u001b[1;33m\u001b[0m\u001b[1;33m\u001b[0m\u001b[0m\n\u001b[0m\u001b[0;32m    214\u001b[0m         \u001b[1;32mreturn\u001b[0m \u001b[0mstream\u001b[0m\u001b[1;33m\u001b[0m\u001b[1;33m\u001b[0m\u001b[0m\n\u001b[0;32m    215\u001b[0m \u001b[1;33m\u001b[0m\u001b[0m\n",
      "\u001b[1;32mC:\\Anaconda3\\lib\\site-packages\\nltk\\data.py\u001b[0m in \u001b[0;36mopen\u001b[1;34m(self, encoding)\u001b[0m\n\u001b[0;32m    343\u001b[0m \u001b[1;33m\u001b[0m\u001b[0m\n\u001b[0;32m    344\u001b[0m     \u001b[1;32mdef\u001b[0m \u001b[0mopen\u001b[0m\u001b[1;33m(\u001b[0m\u001b[0mself\u001b[0m\u001b[1;33m,\u001b[0m \u001b[0mencoding\u001b[0m\u001b[1;33m=\u001b[0m\u001b[1;32mNone\u001b[0m\u001b[1;33m)\u001b[0m\u001b[1;33m:\u001b[0m\u001b[1;33m\u001b[0m\u001b[1;33m\u001b[0m\u001b[0m\n\u001b[1;32m--> 345\u001b[1;33m         \u001b[0mstream\u001b[0m \u001b[1;33m=\u001b[0m \u001b[0mopen\u001b[0m\u001b[1;33m(\u001b[0m\u001b[0mself\u001b[0m\u001b[1;33m.\u001b[0m\u001b[0m_path\u001b[0m\u001b[1;33m,\u001b[0m \u001b[1;34m'rb'\u001b[0m\u001b[1;33m)\u001b[0m\u001b[1;33m\u001b[0m\u001b[1;33m\u001b[0m\u001b[0m\n\u001b[0m\u001b[0;32m    346\u001b[0m         \u001b[1;32mif\u001b[0m \u001b[0mencoding\u001b[0m \u001b[1;32mis\u001b[0m \u001b[1;32mnot\u001b[0m \u001b[1;32mNone\u001b[0m\u001b[1;33m:\u001b[0m\u001b[1;33m\u001b[0m\u001b[1;33m\u001b[0m\u001b[0m\n\u001b[0;32m    347\u001b[0m             \u001b[0mstream\u001b[0m \u001b[1;33m=\u001b[0m \u001b[0mSeekableUnicodeStreamReader\u001b[0m\u001b[1;33m(\u001b[0m\u001b[0mstream\u001b[0m\u001b[1;33m,\u001b[0m \u001b[0mencoding\u001b[0m\u001b[1;33m)\u001b[0m\u001b[1;33m\u001b[0m\u001b[1;33m\u001b[0m\u001b[0m\n",
      "\u001b[1;31mKeyboardInterrupt\u001b[0m: "
     ]
    }
   ],
   "source": [
    " df.message.apply(lambda x: tokenize(x))\n",
    "# df.message.apply(lambda x: pd.series(tokenize(x)))"
   ]
  },
  {
   "cell_type": "markdown",
   "metadata": {},
   "source": [
    "### 3. Build a machine learning pipeline\n",
    "This machine pipeline should take in the `message` column as input and output classification results on the other 36 categories in the dataset. You may find the [MultiOutputClassifier](http://scikit-learn.org/stable/modules/generated/sklearn.multioutput.MultiOutputClassifier.html) helpful for predicting multiple target variables."
   ]
  },
  {
   "cell_type": "code",
   "execution_count": 1,
   "metadata": {},
   "outputs": [],
   "source": [
    "def build_model():\n",
    "    \n",
    "    from sklearn.metrics import confusion_matrix\n",
    "    from sklearn.model_selection import RandomizedSearchCV\n",
    "    from sklearn.ensemble import RandomForestClassifier\n",
    "    from sklearn.multioutput import MultiOutputClassifier\n",
    "    from sklearn.model_selection import train_test_split\n",
    "    from sklearn.pipeline import Pipeline, FeatureUnion\n",
    "    from sklearn.base import BaseEstimator, TransformerMixin\n",
    "    from sklearn.feature_extraction.text import CountVectorizer, TfidfTransformer\n",
    "\n",
    "    pipeline = Pipeline([\n",
    "        ('vect', CountVectorizer(tokenizer=tokenize)),\n",
    "        ('tfidf', TfidfTransformer()),\n",
    "        ('clf', MultiOutputClassifier(RandomForestClassifier()))\n",
    "    ])\n",
    "    \n",
    "    parameters = {'clf__estimator__n_estimators': [20, 30, 40],\n",
    "    'clf__estimator__min_samples_split': [2,5,8]}\n",
    "\n",
    "    model = RandomizedSearchCV(pipeline, param_distributions=parameters, n_jobs=4, verbose=2)\n",
    "\n",
    "    return model"
   ]
  },
  {
   "cell_type": "markdown",
   "metadata": {},
   "source": [
    "### 5. Test your model\n",
    "Report the f1 score, precision and recall for each output category of the dataset. You can do this by iterating through the columns and calling sklearn's `classification_report` on each."
   ]
  },
  {
   "cell_type": "code",
   "execution_count": 239,
   "metadata": {},
   "outputs": [
    {
     "name": "stderr",
     "output_type": "stream",
     "text": [
      "C:\\Anaconda3\\lib\\site-packages\\sklearn\\model_selection\\_split.py:1978: FutureWarning: The default value of cv will change from 3 to 5 in version 0.22. Specify it explicitly to silence this warning.\n",
      "  warnings.warn(CV_WARNING, FutureWarning)\n",
      "C:\\Anaconda3\\lib\\site-packages\\sklearn\\model_selection\\_search.py:266: UserWarning: The total space of parameters 9 is smaller than n_iter=10. Running 9 iterations. For exhaustive searches, use GridSearchCV.\n",
      "  % (grid_size, self.n_iter, grid_size), UserWarning)\n",
      "[Parallel(n_jobs=4)]: Using backend LokyBackend with 4 concurrent workers.\n"
     ]
    },
    {
     "name": "stdout",
     "output_type": "stream",
     "text": [
      "Fitting 3 folds for each of 9 candidates, totalling 27 fits\n"
     ]
    },
    {
     "name": "stderr",
     "output_type": "stream",
     "text": [
      "[Parallel(n_jobs=4)]: Done  27 out of  27 | elapsed:    6.6s finished\n",
      "C:\\Anaconda3\\lib\\site-packages\\sklearn\\model_selection\\_search.py:813: DeprecationWarning: The default of the `iid` parameter will change from True to False in version 0.22 and will be removed in 0.24. This will change numeric results when test-set sizes are unequal.\n",
      "  DeprecationWarning)\n"
     ]
    }
   ],
   "source": [
    "model = build_model()\n",
    "model.fit(X_train, y_train)\n",
    "y_pred = model.predict(X_test)"
   ]
  },
  {
   "cell_type": "code",
   "execution_count": 240,
   "metadata": {
    "scrolled": true
   },
   "outputs": [
    {
     "name": "stdout",
     "output_type": "stream",
     "text": [
      "    related  request  offer  aid_related  medical_help  medical_products  \\\n",
      "16        1        1      0            1             1                 0   \n",
      "1         1        0      0            1             0                 0   \n",
      "40        1        0      0            1             1                 0   \n",
      "49        1        0      0            1             0                 0   \n",
      "33        1        0      0            0             0                 0   \n",
      "18        0        0      0            0             0                 0   \n",
      "30        0        0      0            0             0                 0   \n",
      "21        1        1      0            1             0                 0   \n",
      "47        1        1      0            1             0                 0   \n",
      "25        0        0      0            0             0                 0   \n",
      "\n",
      "    search_and_rescue  security  military  child_alone  ...  aid_centers  \\\n",
      "16                  0         0         0            0  ...            0   \n",
      "1                   0         0         0            0  ...            0   \n",
      "40                  0         0         1            0  ...            0   \n",
      "49                  0         0         1            0  ...            0   \n",
      "33                  0         0         0            0  ...            0   \n",
      "18                  0         0         0            0  ...            0   \n",
      "30                  0         0         0            0  ...            0   \n",
      "21                  0         0         0            0  ...            0   \n",
      "47                  0         0         0            0  ...            0   \n",
      "25                  0         0         0            0  ...            0   \n",
      "\n",
      "    other_infrastructure  weather_related  floods  storm  fire  earthquake  \\\n",
      "16                     0                0       0      0     0           0   \n",
      "1                      0                1       0      1     0           0   \n",
      "40                     0                1       0      0     0           1   \n",
      "49                     0                0       0      0     0           0   \n",
      "33                     0                0       0      0     0           0   \n",
      "18                     0                0       0      0     0           0   \n",
      "30                     0                0       0      0     0           0   \n",
      "21                     0                0       0      0     0           0   \n",
      "47                     0                0       0      0     0           0   \n",
      "25                     0                0       0      0     0           0   \n",
      "\n",
      "    cold  other_weather  direct_report  \n",
      "16     0              0              1  \n",
      "1      0              0              0  \n",
      "40     0              0              0  \n",
      "49     0              0              0  \n",
      "33     0              0              0  \n",
      "18     0              0              0  \n",
      "30     0              0              0  \n",
      "21     0              0              1  \n",
      "47     0              0              1  \n",
      "25     0              0              0  \n",
      "\n",
      "[10 rows x 36 columns]\n"
     ]
    }
   ],
   "source": [
    "print(y_test)"
   ]
  },
  {
   "cell_type": "code",
   "execution_count": 249,
   "metadata": {},
   "outputs": [],
   "source": [
    "def display_results(y_test, y_pred):\n",
    "    \n",
    "    category_columns = ['related', 'request', 'offer', 'aid_related', 'medical_help', 'medical_products', 'search_and_rescue', 'security', 'military', 'child_alone', 'water', 'food', 'shelter', 'clothing', 'money', 'missing_people', 'refugees', 'death', 'other_aid', 'infrastructure_related', 'transport', 'buildings', 'electricity', 'tools', 'hospitals', 'shops', 'aid_centers', 'other_infrastructure', 'weather_related', 'floods', 'storm', 'fire', 'earthquake', 'cold', 'other_weather', 'direct_report']\n",
    "\n",
    "    from sklearn.metrics import classification_report\n",
    "    print(classification_report(y_test, y_pred,target_names = category_columns))"
   ]
  },
  {
   "cell_type": "code",
   "execution_count": 250,
   "metadata": {
    "scrolled": true
   },
   "outputs": [
    {
     "name": "stdout",
     "output_type": "stream",
     "text": [
      "                        precision    recall  f1-score   support\n",
      "\n",
      "               related       0.70      1.00      0.82         7\n",
      "               request       0.50      0.33      0.40         3\n",
      "                 offer       0.00      0.00      0.00         0\n",
      "           aid_related       0.67      1.00      0.80         6\n",
      "          medical_help       0.00      0.00      0.00         2\n",
      "      medical_products       0.00      0.00      0.00         0\n",
      "     search_and_rescue       0.00      0.00      0.00         0\n",
      "              security       0.00      0.00      0.00         0\n",
      "              military       0.00      0.00      0.00         2\n",
      "           child_alone       0.00      0.00      0.00         0\n",
      "                 water       1.00      0.50      0.67         2\n",
      "                  food       1.00      0.33      0.50         3\n",
      "               shelter       0.00      0.00      0.00         0\n",
      "              clothing       0.00      0.00      0.00         0\n",
      "                 money       0.00      0.00      0.00         0\n",
      "        missing_people       0.00      0.00      0.00         0\n",
      "              refugees       0.00      0.00      0.00         0\n",
      "                 death       0.00      0.00      0.00         0\n",
      "             other_aid       0.00      0.00      0.00         3\n",
      "infrastructure_related       0.00      0.00      0.00         1\n",
      "             transport       0.00      0.00      0.00         0\n",
      "             buildings       0.00      0.00      0.00         0\n",
      "           electricity       0.00      0.00      0.00         0\n",
      "                 tools       0.00      0.00      0.00         0\n",
      "             hospitals       0.00      0.00      0.00         0\n",
      "                 shops       0.00      0.00      0.00         1\n",
      "           aid_centers       0.00      0.00      0.00         0\n",
      "  other_infrastructure       0.00      0.00      0.00         0\n",
      "       weather_related       0.00      0.00      0.00         2\n",
      "                floods       0.00      0.00      0.00         0\n",
      "                 storm       0.00      0.00      0.00         1\n",
      "                  fire       0.00      0.00      0.00         0\n",
      "            earthquake       0.00      0.00      0.00         1\n",
      "                  cold       0.00      0.00      0.00         0\n",
      "         other_weather       0.00      0.00      0.00         0\n",
      "         direct_report       0.50      0.33      0.40         3\n",
      "\n",
      "             micro avg       0.68      0.46      0.55        37\n",
      "             macro avg       0.12      0.10      0.10        37\n",
      "          weighted avg       0.46      0.46      0.43        37\n",
      "           samples avg       0.60      0.38      0.43        37\n",
      "\n"
     ]
    }
   ],
   "source": [
    "display_results(y_test, y_pred)"
   ]
  },
  {
   "cell_type": "markdown",
   "metadata": {},
   "source": [
    "Show the accuracy, precision, and recall of the tuned model.  \n",
    "\n",
    "Since this project focuses on code quality, process, and  pipelines, there is no minimum performance metric needed to pass. However, make sure to fine tune your models for accuracy, precision and recall to make your project stand out - especially for your portfolio!"
   ]
  },
  {
   "cell_type": "code",
   "execution_count": null,
   "metadata": {},
   "outputs": [],
   "source": []
  },
  {
   "cell_type": "markdown",
   "metadata": {},
   "source": [
    "### 8. Try improving your model further. Here are a few ideas:\n",
    "* try other machine learning algorithms\n",
    "* add other features besides the TF-IDF"
   ]
  },
  {
   "cell_type": "code",
   "execution_count": null,
   "metadata": {},
   "outputs": [],
   "source": []
  },
  {
   "cell_type": "markdown",
   "metadata": {},
   "source": [
    "### 9. Export your model as a pickle file"
   ]
  },
  {
   "cell_type": "code",
   "execution_count": null,
   "metadata": {},
   "outputs": [],
   "source": [
    "def save_model(model, model_filepath):\n",
    "    \n",
    "    pickle.dump(model, open('model.pkl', 'wb'))"
   ]
  },
  {
   "cell_type": "markdown",
   "metadata": {},
   "source": [
    "### 10. Use this notebook to complete `train.py`\n",
    "Use the template file attached in the Resources folder to write a script that runs the steps above to create a database and export a model based on a new dataset specified by the user."
   ]
  },
  {
   "cell_type": "markdown",
   "metadata": {},
   "source": [
    "## Test the code"
   ]
  },
  {
   "cell_type": "code",
   "execution_count": 14,
   "metadata": {},
   "outputs": [],
   "source": [
    "import sys\n",
    "\n",
    "def load_data(database_filepath):\n",
    "    \n",
    "    import re\n",
    "    import numpy as np\n",
    "    import pandas as pd\n",
    "    from sqlalchemy import create_engine\n",
    "    engine = create_engine(database_filepath)\n",
    "    df = pd.read_sql(\"SELECT * FROM Disaster_data\", engine)\n",
    "\n",
    "    df = df.head(20)\n",
    "    category_columns = ['related', 'request', 'offer', 'aid_related', 'medical_help', 'medical_products', 'search_and_rescue', 'security', 'military', 'child_alone', 'water', 'food', 'shelter', 'clothing', 'money', 'missing_people', 'refugees', 'death', 'other_aid', 'infrastructure_related', 'transport', 'buildings', 'electricity', 'tools', 'hospitals', 'shops', 'aid_centers', 'other_infrastructure', 'weather_related', 'floods', 'storm', 'fire', 'earthquake', 'cold', 'other_weather', 'direct_report']\n",
    "    X = df['message']\n",
    "    Y = df[category_columns]\n",
    "\n",
    "    return X,Y,category_columns\n",
    "\n",
    "def tokenize(text):\n",
    "    \n",
    "    from nltk.tokenize import word_tokenize\n",
    "    from nltk.stem import WordNetLemmatizer\n",
    "    from nltk.corpus import stopwords\n",
    "\n",
    "    # Remove punctuation characters\n",
    "    import re\n",
    "    text = re.sub(r\"[^a-zA-Z0-9]\", \" \", text) \n",
    "    \n",
    "    # tokenize\n",
    "    raw_tokens = word_tokenize(text)\n",
    "    \n",
    "    # remove stop words\n",
    "    tokens = [w for w in raw_tokens if w not in stopwords.words(\"english\")]\n",
    "    \n",
    "    # lemmatize and normalize\n",
    "    lemmatizer = WordNetLemmatizer()\n",
    "    clean_tokens = []\n",
    "    for tok in tokens:\n",
    "        clean_tok = lemmatizer.lemmatize(tok).lower().strip()\n",
    "        clean_tokens.append(clean_tok)\n",
    "\n",
    "    return clean_tokens\n",
    "\n",
    "\n",
    "def build_model():\n",
    "    \n",
    "    from sklearn.metrics import confusion_matrix\n",
    "    from sklearn.model_selection import RandomizedSearchCV\n",
    "    from sklearn.ensemble import RandomForestClassifier\n",
    "    from sklearn.multioutput import MultiOutputClassifier\n",
    "    from sklearn.pipeline import Pipeline, FeatureUnion\n",
    "    from sklearn.base import BaseEstimator, TransformerMixin\n",
    "    from sklearn.feature_extraction.text import CountVectorizer, TfidfTransformer\n",
    "\n",
    "    pipeline = Pipeline([\n",
    "        ('vect', CountVectorizer(tokenizer=tokenize)),\n",
    "        ('tfidf', TfidfTransformer()),\n",
    "        ('clf', MultiOutputClassifier(RandomForestClassifier()))\n",
    "    ])\n",
    "    \n",
    "    parameters = {'clf__estimator__n_estimators': [20, 30, 40],\n",
    "    'clf__estimator__min_samples_split': [2,5,8]}\n",
    "\n",
    "    model = RandomizedSearchCV(pipeline, param_distributions=parameters, n_jobs=4, verbose=2)\n",
    "\n",
    "    return model\n",
    "    \n",
    "\n",
    "def evaluate_model(model, X_test, Y_test, category_names):\n",
    "    \n",
    "    y_pred = model.predict(X_test)\n",
    "\n",
    "    category_columns = category_names\n",
    "    from sklearn.metrics import classification_report\n",
    "    print(classification_report(y_test, y_pred,target_names = category_columns))\n",
    "    \n"
   ]
  },
  {
   "cell_type": "code",
   "execution_count": 15,
   "metadata": {
    "scrolled": true
   },
   "outputs": [
    {
     "name": "stderr",
     "output_type": "stream",
     "text": [
      "C:\\Anaconda3\\lib\\site-packages\\sklearn\\model_selection\\_split.py:1978: FutureWarning: The default value of cv will change from 3 to 5 in version 0.22. Specify it explicitly to silence this warning.\n",
      "  warnings.warn(CV_WARNING, FutureWarning)\n",
      "C:\\Anaconda3\\lib\\site-packages\\sklearn\\model_selection\\_search.py:266: UserWarning: The total space of parameters 9 is smaller than n_iter=10. Running 9 iterations. For exhaustive searches, use GridSearchCV.\n",
      "  % (grid_size, self.n_iter, grid_size), UserWarning)\n",
      "[Parallel(n_jobs=4)]: Using backend LokyBackend with 4 concurrent workers.\n"
     ]
    },
    {
     "name": "stdout",
     "output_type": "stream",
     "text": [
      "Fitting 3 folds for each of 9 candidates, totalling 27 fits\n"
     ]
    },
    {
     "name": "stderr",
     "output_type": "stream",
     "text": [
      "[Parallel(n_jobs=4)]: Done  27 out of  27 | elapsed:   14.9s finished\n",
      "C:\\Anaconda3\\lib\\site-packages\\sklearn\\model_selection\\_search.py:813: DeprecationWarning: The default of the `iid` parameter will change from True to False in version 0.22 and will be removed in 0.24. This will change numeric results when test-set sizes are unequal.\n",
      "  DeprecationWarning)\n"
     ]
    },
    {
     "name": "stdout",
     "output_type": "stream",
     "text": [
      "                        precision    recall  f1-score   support\n",
      "\n",
      "               related       0.75      1.00      0.86         3\n",
      "               request       0.00      0.00      0.00         2\n",
      "                 offer       0.00      0.00      0.00         0\n",
      "           aid_related       1.00      0.50      0.67         2\n",
      "          medical_help       0.00      0.00      0.00         1\n",
      "      medical_products       0.00      0.00      0.00         0\n",
      "     search_and_rescue       0.00      0.00      0.00         0\n",
      "              security       0.00      0.00      0.00         0\n",
      "              military       0.00      0.00      0.00         0\n",
      "           child_alone       0.00      0.00      0.00         0\n",
      "                 water       0.00      0.00      0.00         1\n",
      "                  food       0.00      0.00      0.00         2\n",
      "               shelter       0.00      0.00      0.00         0\n",
      "              clothing       0.00      0.00      0.00         0\n",
      "                 money       0.00      0.00      0.00         0\n",
      "        missing_people       0.00      0.00      0.00         0\n",
      "              refugees       0.00      0.00      0.00         0\n",
      "                 death       0.00      0.00      0.00         0\n",
      "             other_aid       0.00      0.00      0.00         0\n",
      "infrastructure_related       0.00      0.00      0.00         0\n",
      "             transport       0.00      0.00      0.00         0\n",
      "             buildings       0.00      0.00      0.00         0\n",
      "           electricity       0.00      0.00      0.00         0\n",
      "                 tools       0.00      0.00      0.00         0\n",
      "             hospitals       0.00      0.00      0.00         0\n",
      "                 shops       0.00      0.00      0.00         0\n",
      "           aid_centers       0.00      0.00      0.00         0\n",
      "  other_infrastructure       0.00      0.00      0.00         0\n",
      "       weather_related       0.00      0.00      0.00         1\n",
      "                floods       0.00      0.00      0.00         0\n",
      "                 storm       0.00      0.00      0.00         1\n",
      "                  fire       0.00      0.00      0.00         0\n",
      "            earthquake       0.00      0.00      0.00         0\n",
      "                  cold       0.00      0.00      0.00         0\n",
      "         other_weather       0.00      0.00      0.00         0\n",
      "         direct_report       0.00      0.00      0.00         2\n",
      "\n",
      "             micro avg       0.80      0.27      0.40        15\n",
      "             macro avg       0.05      0.04      0.04        15\n",
      "          weighted avg       0.28      0.27      0.26        15\n",
      "           samples avg       0.75      0.20      0.32        15\n",
      "\n"
     ]
    },
    {
     "name": "stderr",
     "output_type": "stream",
     "text": [
      "C:\\Anaconda3\\lib\\site-packages\\sklearn\\metrics\\classification.py:1437: UndefinedMetricWarning: Precision and F-score are ill-defined and being set to 0.0 in labels with no predicted samples.\n",
      "  'precision', 'predicted', average, warn_for)\n",
      "C:\\Anaconda3\\lib\\site-packages\\sklearn\\metrics\\classification.py:1439: UndefinedMetricWarning: Recall and F-score are ill-defined and being set to 0.0 in labels with no true samples.\n",
      "  'recall', 'true', average, warn_for)\n",
      "C:\\Anaconda3\\lib\\site-packages\\sklearn\\metrics\\classification.py:1439: UndefinedMetricWarning: Recall and F-score are ill-defined and being set to 0.0 in samples with no true labels.\n",
      "  'recall', 'true', average, warn_for)\n"
     ]
    }
   ],
   "source": [
    "X, y, category_names = load_data('sqlite:///Disaster_data.db')\n",
    "model = build_model()\n",
    "\n",
    "from sklearn.model_selection import train_test_split\n",
    "X_train, X_test, y_train, y_test = train_test_split(X, y,test_size=0.2)\n",
    "model.fit(X_train, y_train)\n",
    "        \n",
    "evaluate_model(model, X_test, y_test, category_names)"
   ]
  },
  {
   "cell_type": "code",
   "execution_count": 16,
   "metadata": {
    "collapsed": true
   },
   "outputs": [
    {
     "data": {
      "text/plain": [
       "RandomizedSearchCV(cv='warn', error_score='raise-deprecating',\n",
       "                   estimator=Pipeline(memory=None,\n",
       "                                      steps=[('vect',\n",
       "                                              CountVectorizer(analyzer='word',\n",
       "                                                              binary=False,\n",
       "                                                              decode_error='strict',\n",
       "                                                              dtype=<class 'numpy.int64'>,\n",
       "                                                              encoding='utf-8',\n",
       "                                                              input='content',\n",
       "                                                              lowercase=True,\n",
       "                                                              max_df=1.0,\n",
       "                                                              max_features=None,\n",
       "                                                              min_df=1,\n",
       "                                                              ngram_range=(1,\n",
       "                                                                           1),\n",
       "                                                              preprocessor=None,\n",
       "                                                              stop_words=None,\n",
       "                                                              strip_accen...\n",
       "                                                                                                     n_estimators='warn',\n",
       "                                                                                                     n_jobs=None,\n",
       "                                                                                                     oob_score=False,\n",
       "                                                                                                     random_state=None,\n",
       "                                                                                                     verbose=0,\n",
       "                                                                                                     warm_start=False),\n",
       "                                                                    n_jobs=None))],\n",
       "                                      verbose=False),\n",
       "                   iid='warn', n_iter=10, n_jobs=4,\n",
       "                   param_distributions={'clf__estimator__min_samples_split': [2,\n",
       "                                                                              5,\n",
       "                                                                              8],\n",
       "                                        'clf__estimator__n_estimators': [20, 30,\n",
       "                                                                         40]},\n",
       "                   pre_dispatch='2*n_jobs', random_state=None, refit=True,\n",
       "                   return_train_score=False, scoring=None, verbose=2)"
      ]
     },
     "execution_count": 16,
     "metadata": {},
     "output_type": "execute_result"
    }
   ],
   "source": [
    "model"
   ]
  },
  {
   "cell_type": "code",
   "execution_count": 20,
   "metadata": {},
   "outputs": [],
   "source": [
    "import pickle\n",
    "with open('../models/disaster_model.pkl', 'wb') as f:\n",
    "    pickle.dump(model, f)"
   ]
  },
  {
   "cell_type": "code",
   "execution_count": 27,
   "metadata": {},
   "outputs": [],
   "source": [
    "def save_model(model, model_filepath):\n",
    "    import pickle\n",
    "    with open(model_filepath +'/disaster_model.pkl', 'wb') as f:\n",
    "        pickle.dump(model, f)"
   ]
  },
  {
   "cell_type": "code",
   "execution_count": 28,
   "metadata": {},
   "outputs": [],
   "source": [
    "save_model(model, '../models')"
   ]
  },
  {
   "cell_type": "code",
   "execution_count": null,
   "metadata": {},
   "outputs": [],
   "source": []
  }
 ],
 "metadata": {
  "kernelspec": {
   "display_name": "Python 3",
   "language": "python",
   "name": "python3"
  },
  "language_info": {
   "codemirror_mode": {
    "name": "ipython",
    "version": 3
   },
   "file_extension": ".py",
   "mimetype": "text/x-python",
   "name": "python",
   "nbconvert_exporter": "python",
   "pygments_lexer": "ipython3",
   "version": "3.7.3"
  }
 },
 "nbformat": 4,
 "nbformat_minor": 2
}
