{
 "cells": [
  {
   "cell_type": "code",
   "execution_count": 1,
   "metadata": {},
   "outputs": [
    {
     "name": "stderr",
     "output_type": "stream",
     "text": [
      "c:\\Anaconda3\\lib\\site-packages\\sklearn\\externals\\joblib\\__init__.py:15: DeprecationWarning: sklearn.externals.joblib is deprecated in 0.21 and will be removed in 0.23. Please import this functionality directly from joblib, which can be installed with: pip install joblib. If this warning is raised when loading pickled models, you may need to re-serialize those models with scikit-learn 0.21+.\n",
      "  warnings.warn(msg, category=DeprecationWarning)\n"
     ]
    }
   ],
   "source": [
    "import json\n",
    "import plotly\n",
    "import pandas as pd\n",
    "\n",
    "import nltk\n",
    "from nltk.stem import WordNetLemmatizer\n",
    "from nltk.tokenize import word_tokenize\n",
    "\n",
    "from flask import Flask\n",
    "from flask import render_template, request, jsonify\n",
    "from plotly.graph_objs import Bar\n",
    "from sklearn.externals import joblib\n",
    "from sqlalchemy import create_engine\n",
    "\n",
    "import joblib\n",
    "\n",
    "def tokenize(text):\n",
    "    tokens = word_tokenize(text)\n",
    "    lemmatizer = WordNetLemmatizer()\n",
    "\n",
    "    clean_tokens = []\n",
    "    for tok in tokens:\n",
    "        clean_tok = lemmatizer.lemmatize(tok).lower().strip()\n",
    "        clean_tokens.append(clean_tok)\n",
    "\n",
    "    return clean_tokens\n",
    "\n",
    "# load data\n",
    "engine = create_engine('sqlite:///../data/Disaster_data.db')\n",
    "df = pd.read_sql_table('Disaster_data', engine)"
   ]
  },
  {
   "cell_type": "code",
   "execution_count": 3,
   "metadata": {},
   "outputs": [],
   "source": [
    "#load model\n",
    "\n",
    "model = joblib.load(\"../models/disaster_model.pkl\")"
   ]
  },
  {
   "cell_type": "code",
   "execution_count": 4,
   "metadata": {},
   "outputs": [],
   "source": [
    "app = Flask(__name__)\n",
    "\n",
    "# index webpage displays cool visuals and receives user input text for model\n",
    "@app.route('/')\n",
    "@app.route('/index')\n",
    "def index():\n",
    "    \n",
    "    # extract data needed for visuals\n",
    "    # TODO: Below is an example - modify to extract data for your own visuals\n",
    "    genre_counts = df.groupby('genre').count()['message']\n",
    "    genre_names = list(genre_counts.index)\n",
    "    \n",
    "    # create visuals\n",
    "    # TODO: Below is an example - modify to create your own visuals\n",
    "    graphs = [\n",
    "        {\n",
    "            'data': [\n",
    "                Bar(\n",
    "                    x=genre_names,\n",
    "                    y=genre_counts\n",
    "                )\n",
    "            ],\n",
    "\n",
    "            'layout': {\n",
    "                'title': 'Distribution of Message Genres',\n",
    "                'yaxis': {\n",
    "                    'title': \"Count\"\n",
    "                },\n",
    "                'xaxis': {\n",
    "                    'title': \"Genre\"\n",
    "                }\n",
    "            }\n",
    "        }\n",
    "    ]\n",
    "    \n",
    "    # encode plotly graphs in JSON\n",
    "    ids = [\"graph-{}\".format(i) for i, _ in enumerate(graphs)]\n",
    "    graphJSON = json.dumps(graphs, cls=plotly.utils.PlotlyJSONEncoder)\n",
    "    \n",
    "    # render web page with plotly graphs\n",
    "    return render_template('master.html', ids=ids, graphJSON=graphJSON)\n"
   ]
  },
  {
   "cell_type": "code",
   "execution_count": 5,
   "metadata": {},
   "outputs": [],
   "source": [
    "# web page that handles user query and displays model results\n",
    "@app.route('/go')\n",
    "def go():\n",
    "    # save user input in query\n",
    "    query = request.args.get('query', '') \n",
    "\n",
    "    # use model to predict classification for query\n",
    "    classification_labels = model.predict([query])[0]\n",
    "    classification_results = dict(zip(df.columns[4:], classification_labels))\n",
    "\n",
    "    # This will render the go.html Please see that file. \n",
    "    return render_template(\n",
    "        'go.html',\n",
    "        query=query,\n",
    "        classification_result=classification_results\n",
    "    )\n"
   ]
  },
  {
   "cell_type": "code",
   "execution_count": 7,
   "metadata": {},
   "outputs": [
    {
     "name": "stdout",
     "output_type": "stream",
     "text": [
      " * Serving Flask app \"__main__\" (lazy loading)\n",
      " * Environment: production\n",
      "   WARNING: This is a development server. Do not use it in a production deployment.\n",
      "   Use a production WSGI server instead.\n",
      " * Debug mode: on\n"
     ]
    },
    {
     "name": "stderr",
     "output_type": "stream",
     "text": [
      " * Restarting with stat\n"
     ]
    },
    {
     "ename": "SystemExit",
     "evalue": "1",
     "output_type": "error",
     "traceback": [
      "An exception has occurred, use %tb to see the full traceback.\n",
      "\u001b[1;31mSystemExit\u001b[0m\u001b[1;31m:\u001b[0m 1\n"
     ]
    }
   ],
   "source": [
    "def main():\n",
    "    app.run(host='0.0.0.0', port=3001, debug=True)\n",
    "    \n",
    "if __name__ == '__main__':\n",
    "    main()"
   ]
  },
  {
   "cell_type": "code",
   "execution_count": null,
   "metadata": {},
   "outputs": [],
   "source": []
  }
 ],
 "metadata": {
  "kernelspec": {
   "display_name": "Python 3.7.3 ('base')",
   "language": "python",
   "name": "python3"
  },
  "language_info": {
   "codemirror_mode": {
    "name": "ipython",
    "version": 3
   },
   "file_extension": ".py",
   "mimetype": "text/x-python",
   "name": "python",
   "nbconvert_exporter": "python",
   "pygments_lexer": "ipython3",
   "version": "3.7.3"
  },
  "vscode": {
   "interpreter": {
    "hash": "e4cce46d6be9934fbd27f9ca0432556941ea5bdf741d4f4d64c6cd7f8dfa8fba"
   }
  }
 },
 "nbformat": 4,
 "nbformat_minor": 2
}
